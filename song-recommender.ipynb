{
 "cells": [
  {
   "cell_type": "code",
   "execution_count": 1,
   "id": "2f8bfa48-ec46-4649-89a3-f7ccd7129617",
   "metadata": {},
   "outputs": [],
   "source": [
    "# Import Libraries\n",
    "import pandas as pd"
   ]
  },
  {
   "cell_type": "markdown",
   "id": "28ac0239-d2c2-40ff-a59c-89906af39d6b",
   "metadata": {},
   "source": [
    "# Data Merging and Cleaning "
   ]
  },
  {
   "cell_type": "code",
   "execution_count": 9,
   "id": "8aa1df2d-df4a-45f2-844f-90350617aeb2",
   "metadata": {},
   "outputs": [
    {
     "data": {
      "text/html": [
       "<div>\n",
       "<style scoped>\n",
       "    .dataframe tbody tr th:only-of-type {\n",
       "        vertical-align: middle;\n",
       "    }\n",
       "\n",
       "    .dataframe tbody tr th {\n",
       "        vertical-align: top;\n",
       "    }\n",
       "\n",
       "    .dataframe thead th {\n",
       "        text-align: right;\n",
       "    }\n",
       "</style>\n",
       "<table border=\"1\" class=\"dataframe\">\n",
       "  <thead>\n",
       "    <tr style=\"text-align: right;\">\n",
       "      <th></th>\n",
       "      <th>track_name</th>\n",
       "      <th>artist_name</th>\n",
       "      <th>album_name</th>\n",
       "      <th>spotify_track_uri</th>\n",
       "      <th>skipped</th>\n",
       "      <th>date</th>\n",
       "      <th>time</th>\n",
       "      <th>min_played</th>\n",
       "    </tr>\n",
       "  </thead>\n",
       "  <tbody>\n",
       "    <tr>\n",
       "      <th>0</th>\n",
       "      <td>Heaven - Originally Performed By DJ Sammy &amp; Yanou</td>\n",
       "      <td>It's A Cover Up</td>\n",
       "      <td>Dance Anthems</td>\n",
       "      <td>spotify:track:5V2u2roMAFN97vgTt01OlG</td>\n",
       "      <td>TRUE</td>\n",
       "      <td>9/6/2012</td>\n",
       "      <td>19:45:53</td>\n",
       "      <td>1.250816667</td>\n",
       "    </tr>\n",
       "  </tbody>\n",
       "</table>\n",
       "</div>"
      ],
      "text/plain": [
       "                                          track_name      artist_name  \\\n",
       "0  Heaven - Originally Performed By DJ Sammy & Yanou  It's A Cover Up   \n",
       "\n",
       "      album_name                     spotify_track_uri skipped      date  \\\n",
       "0  Dance Anthems  spotify:track:5V2u2roMAFN97vgTt01OlG    TRUE  9/6/2012   \n",
       "\n",
       "       time   min_played  \n",
       "0  19:45:53  1.250816667  "
      ]
     },
     "execution_count": 9,
     "metadata": {},
     "output_type": "execute_result"
    }
   ],
   "source": [
    "my_spotify_data = pd.read_csv(\"data/my_spotify_data.csv\", encoding='latin-1', low_memory=False)\n",
    "my_spotify_data.head(1)"
   ]
  },
  {
   "cell_type": "code",
   "execution_count": 16,
   "id": "c7d189aa-f08d-473e-9db1-5725d467094a",
   "metadata": {},
   "outputs": [
    {
     "data": {
      "text/html": [
       "<div>\n",
       "<style scoped>\n",
       "    .dataframe tbody tr th:only-of-type {\n",
       "        vertical-align: middle;\n",
       "    }\n",
       "\n",
       "    .dataframe tbody tr th {\n",
       "        vertical-align: top;\n",
       "    }\n",
       "\n",
       "    .dataframe thead th {\n",
       "        text-align: right;\n",
       "    }\n",
       "</style>\n",
       "<table border=\"1\" class=\"dataframe\">\n",
       "  <thead>\n",
       "    <tr style=\"text-align: right;\">\n",
       "      <th></th>\n",
       "      <th>name</th>\n",
       "      <th>popularity</th>\n",
       "      <th>duration_ms</th>\n",
       "      <th>explicit</th>\n",
       "      <th>artists</th>\n",
       "      <th>release_date</th>\n",
       "      <th>danceability</th>\n",
       "      <th>energy</th>\n",
       "      <th>key</th>\n",
       "      <th>loudness</th>\n",
       "      <th>mode</th>\n",
       "      <th>speechiness</th>\n",
       "      <th>acousticness</th>\n",
       "      <th>instrumentalness</th>\n",
       "      <th>liveness</th>\n",
       "      <th>valence</th>\n",
       "      <th>tempo</th>\n",
       "      <th>time_signature</th>\n",
       "    </tr>\n",
       "  </thead>\n",
       "  <tbody>\n",
       "    <tr>\n",
       "      <th>0</th>\n",
       "      <td>Carve</td>\n",
       "      <td>6</td>\n",
       "      <td>126903</td>\n",
       "      <td>0</td>\n",
       "      <td>['Uli']</td>\n",
       "      <td>1922-02-22</td>\n",
       "      <td>0.645</td>\n",
       "      <td>0.445</td>\n",
       "      <td>0</td>\n",
       "      <td>-13.338</td>\n",
       "      <td>1</td>\n",
       "      <td>0.451</td>\n",
       "      <td>0.674</td>\n",
       "      <td>0.744</td>\n",
       "      <td>0.151</td>\n",
       "      <td>0.127</td>\n",
       "      <td>104.851</td>\n",
       "      <td>3</td>\n",
       "    </tr>\n",
       "  </tbody>\n",
       "</table>\n",
       "</div>"
      ],
      "text/plain": [
       "    name  popularity  duration_ms  explicit  artists release_date  \\\n",
       "0  Carve           6       126903         0  ['Uli']   1922-02-22   \n",
       "\n",
       "   danceability  energy  key  loudness  mode  speechiness  acousticness  \\\n",
       "0         0.645   0.445    0   -13.338     1        0.451         0.674   \n",
       "\n",
       "   instrumentalness  liveness  valence    tempo  time_signature  \n",
       "0             0.744     0.151    0.127  104.851               3  "
      ]
     },
     "execution_count": 16,
     "metadata": {},
     "output_type": "execute_result"
    }
   ],
   "source": [
    "tracks = pd.read_csv(\"data/tracks.csv\")\n",
    "tracks.drop(columns=['id','id_artists'],inplace=True) # unique for each row\n",
    "tracks.head(1)"
   ]
  },
  {
   "cell_type": "code",
   "execution_count": 17,
   "id": "4ce85117-4b05-4eb8-b1d4-a40d4c951591",
   "metadata": {},
   "outputs": [],
   "source": [
    "from ast import literal_eval\n",
    "tracks['artists'] = tracks['artists'].apply(lambda x: literal_eval(x))\n",
    "tracks['artist'] = tracks['artists'].apply(lambda x: x[0])\n",
    "tracks.drop(columns='artists',inplace=True)"
   ]
  },
  {
   "cell_type": "code",
   "execution_count": 19,
   "id": "ad48e332-3379-41ac-a852-2ac3513234dc",
   "metadata": {},
   "outputs": [],
   "source": [
    "data = pd.merge(my_spotify_data, tracks, left_on = ['track_name','artist_name'], right_on = ['name','artist']) # limitation: "
   ]
  },
  {
   "cell_type": "code",
   "execution_count": 31,
   "id": "0a25ddb3-f659-4bee-af23-1cf8932f82d5",
   "metadata": {},
   "outputs": [
    {
     "data": {
      "text/plain": [
       "artist_name\n",
       "Justin Bieber      12400\n",
       "Drake              10052\n",
       "Imagine Dragons     7259\n",
       "Maroon 5            6548\n",
       "Ed Sheeran          6401\n",
       "                   ...  \n",
       "Lane 8                 1\n",
       "Nessa Barrett          1\n",
       "Larissa Lambert        1\n",
       "The High Kings         1\n",
       "Sech                   1\n",
       "Name: count, Length: 2837, dtype: int64"
      ]
     },
     "execution_count": 31,
     "metadata": {},
     "output_type": "execute_result"
    }
   ],
   "source": []
  },
  {
   "cell_type": "code",
   "execution_count": null,
   "id": "0b8d7770-37ba-4814-a779-bbaaad781d50",
   "metadata": {},
   "outputs": [],
   "source": []
  }
 ],
 "metadata": {
  "kernelspec": {
   "display_name": "Python 3 (ipykernel)",
   "language": "python",
   "name": "python3"
  },
  "language_info": {
   "codemirror_mode": {
    "name": "ipython",
    "version": 3
   },
   "file_extension": ".py",
   "mimetype": "text/x-python",
   "name": "python",
   "nbconvert_exporter": "python",
   "pygments_lexer": "ipython3",
   "version": "3.11.5"
  }
 },
 "nbformat": 4,
 "nbformat_minor": 5
}
